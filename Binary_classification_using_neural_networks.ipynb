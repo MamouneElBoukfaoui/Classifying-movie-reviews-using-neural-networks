{
  "cells": [
    {
      "cell_type": "code",
      "execution_count": 3,
      "metadata": {
        "id": "mCaqzGqtIGQT"
      },
      "outputs": [],
      "source": [
        "from tensorflow.keras.datasets import imdb\n",
        "(train_data, train_labels), (test_data,test_labels) = imdb.load_data(num_words=10000)"
      ]
    },
    {
      "cell_type": "markdown",
      "source": [
        "Here we restrict oursleves to the top 10 000 most frequent words.\n",
        "As shown below no word index is more than 10 000."
      ],
      "metadata": {
        "id": "_m_AwheE51ap"
      }
    },
    {
      "cell_type": "code",
      "execution_count": 4,
      "metadata": {
        "colab": {
          "base_uri": "https://localhost:8080/"
        },
        "id": "X58-rBVVQAro",
        "outputId": "57c65509-b842-4a6c-8d63-c088304d40ee"
      },
      "outputs": [
        {
          "output_type": "execute_result",
          "data": {
            "text/plain": [
              "9999"
            ]
          },
          "metadata": {},
          "execution_count": 4
        }
      ],
      "source": [
        "max([max(sequence) for sequence in train_data])"
      ]
    },
    {
      "cell_type": "markdown",
      "metadata": {
        "id": "n82D5OjCTS8K"
      },
      "source": [
        "# Data preparation"
      ]
    },
    {
      "cell_type": "markdown",
      "metadata": {
        "id": "oYPv3kqaRPpQ"
      },
      "source": [
        "1. Decoding reviews\n"
      ]
    },
    {
      "cell_type": "code",
      "execution_count": 5,
      "metadata": {
        "id": "zrRR5UMdRSVh"
      },
      "outputs": [],
      "source": [
        "word_index = imdb.get_word_index()\n",
        "reverse_word_index = dict([(value,key) for (key,value) in word_index.items()])\n",
        "decoded_review = ''.join([reverse_word_index.get(i-3, \"?\") for i in train_data[0]])"
      ]
    },
    {
      "cell_type": "markdown",
      "metadata": {
        "id": "rwMeh3ur3Ei5"
      },
      "source": [
        "2. Encoding integer sequences via multi-hot encoding for neural network learning"
      ]
    },
    {
      "cell_type": "code",
      "execution_count": 6,
      "metadata": {
        "id": "4FQvxUOiRSnm"
      },
      "outputs": [],
      "source": [
        "import numpy as np\n",
        "def vectorize_sequences(sequences, dimension=10000):\n",
        "  results = np.zeros((len(sequences),dimension))\n",
        "  for i, sequence in enumerate(sequences):\n",
        "    for j in sequence:\n",
        "      results[i, j] = 1\n",
        "  return results\n",
        "\n",
        "\n",
        "x_train = vectorize_sequences(train_data)\n",
        "x_test  = vectorize_sequences(test_data)"
      ]
    },
    {
      "cell_type": "code",
      "execution_count": 7,
      "metadata": {
        "id": "dtQ3C1CC6tOQ"
      },
      "outputs": [],
      "source": [
        "y_train = np.asarray(train_labels).astype('float32')\n",
        "y_test = np.asarray(test_labels).astype('float32')"
      ]
    },
    {
      "cell_type": "markdown",
      "metadata": {
        "id": "S9mS7Uf17fl8"
      },
      "source": [
        "# Building the model"
      ]
    },
    {
      "cell_type": "markdown",
      "source": [
        "1. Model architecture"
      ],
      "metadata": {
        "id": "3sXWS0yrne83"
      }
    },
    {
      "cell_type": "code",
      "execution_count": 8,
      "metadata": {
        "id": "MDpYNk6j7nhO"
      },
      "outputs": [],
      "source": [
        "from tensorflow import keras\n",
        "from tensorflow.keras import layers\n",
        "\n",
        "model = keras.Sequential([layers.Dense(16, activation='relu')\n",
        "                      ,layers.Dense(16, activation='relu'),\n",
        "                          layers.Dense(1, activation = 'sigmoid')])\n",
        "\n",
        "\n",
        "\n",
        "model.compile(optimizer='rmsprop', loss = 'binary_crossentropy', metrics = ['accuracy'])\n"
      ]
    },
    {
      "cell_type": "markdown",
      "source": [
        " 2. Creating a validation set"
      ],
      "metadata": {
        "id": "583KEeZonmxa"
      }
    },
    {
      "cell_type": "code",
      "execution_count": 9,
      "metadata": {
        "id": "hPArNmibz16O"
      },
      "outputs": [],
      "source": [
        "x_val = x_train[:10000]\n",
        "partial_x_train = x_train[10000:]\n",
        "y_val = y_train[:10000]\n",
        "partial_y_train = y_train[10000:]"
      ]
    },
    {
      "cell_type": "markdown",
      "source": [
        " 3. Training the model"
      ],
      "metadata": {
        "id": "umoy6RXJnvou"
      }
    },
    {
      "cell_type": "markdown",
      "metadata": {
        "id": "MvnpGtHK0PwJ"
      },
      "source": [
        "*train the model using 20 epochs on all training data using mini batches of 400 samples. We also measure the validation error.*"
      ]
    },
    {
      "cell_type": "code",
      "execution_count": 10,
      "metadata": {
        "colab": {
          "base_uri": "https://localhost:8080/"
        },
        "id": "IE13l1Le0fP4",
        "outputId": "ffc55ed5-913c-4f6b-bad1-e580a4bf1e93"
      },
      "outputs": [
        {
          "output_type": "stream",
          "name": "stdout",
          "text": [
            "Epoch 1/20\n",
            "30/30 [==============================] - 5s 133ms/step - loss: 0.5270 - accuracy: 0.7811 - val_loss: 0.3969 - val_accuracy: 0.8656\n",
            "Epoch 2/20\n",
            "30/30 [==============================] - 1s 44ms/step - loss: 0.3230 - accuracy: 0.8961 - val_loss: 0.3118 - val_accuracy: 0.8852\n",
            "Epoch 3/20\n",
            "30/30 [==============================] - 2s 55ms/step - loss: 0.2437 - accuracy: 0.9183 - val_loss: 0.2851 - val_accuracy: 0.8890\n",
            "Epoch 4/20\n",
            "30/30 [==============================] - 2s 54ms/step - loss: 0.1950 - accuracy: 0.9345 - val_loss: 0.2757 - val_accuracy: 0.8883\n",
            "Epoch 5/20\n",
            "30/30 [==============================] - 1s 43ms/step - loss: 0.1636 - accuracy: 0.9468 - val_loss: 0.2782 - val_accuracy: 0.8865\n",
            "Epoch 6/20\n",
            "30/30 [==============================] - 1s 44ms/step - loss: 0.1399 - accuracy: 0.9548 - val_loss: 0.3051 - val_accuracy: 0.8821\n",
            "Epoch 7/20\n",
            "30/30 [==============================] - 1s 46ms/step - loss: 0.1188 - accuracy: 0.9632 - val_loss: 0.3078 - val_accuracy: 0.8786\n",
            "Epoch 8/20\n",
            "30/30 [==============================] - 2s 54ms/step - loss: 0.1031 - accuracy: 0.9685 - val_loss: 0.3176 - val_accuracy: 0.8836\n",
            "Epoch 9/20\n",
            "30/30 [==============================] - 2s 64ms/step - loss: 0.0869 - accuracy: 0.9746 - val_loss: 0.3860 - val_accuracy: 0.8710\n",
            "Epoch 10/20\n",
            "30/30 [==============================] - 2s 69ms/step - loss: 0.0760 - accuracy: 0.9801 - val_loss: 0.3411 - val_accuracy: 0.8809\n",
            "Epoch 11/20\n",
            "30/30 [==============================] - 1s 46ms/step - loss: 0.0638 - accuracy: 0.9839 - val_loss: 0.3916 - val_accuracy: 0.8750\n",
            "Epoch 12/20\n",
            "30/30 [==============================] - 2s 53ms/step - loss: 0.0548 - accuracy: 0.9873 - val_loss: 0.3856 - val_accuracy: 0.8765\n",
            "Epoch 13/20\n",
            "30/30 [==============================] - 1s 43ms/step - loss: 0.0482 - accuracy: 0.9893 - val_loss: 0.4214 - val_accuracy: 0.8679\n",
            "Epoch 14/20\n",
            "30/30 [==============================] - 1s 45ms/step - loss: 0.0376 - accuracy: 0.9928 - val_loss: 0.4294 - val_accuracy: 0.8760\n",
            "Epoch 15/20\n",
            "30/30 [==============================] - 2s 55ms/step - loss: 0.0330 - accuracy: 0.9937 - val_loss: 0.5315 - val_accuracy: 0.8518\n",
            "Epoch 16/20\n",
            "30/30 [==============================] - 2s 54ms/step - loss: 0.0302 - accuracy: 0.9936 - val_loss: 0.4794 - val_accuracy: 0.8685\n",
            "Epoch 17/20\n",
            "30/30 [==============================] - 2s 59ms/step - loss: 0.0258 - accuracy: 0.9951 - val_loss: 0.4926 - val_accuracy: 0.8739\n",
            "Epoch 18/20\n",
            "30/30 [==============================] - 2s 66ms/step - loss: 0.0195 - accuracy: 0.9974 - val_loss: 0.5627 - val_accuracy: 0.8580\n",
            "Epoch 19/20\n",
            "30/30 [==============================] - 2s 65ms/step - loss: 0.0136 - accuracy: 0.9993 - val_loss: 0.5417 - val_accuracy: 0.8691\n",
            "Epoch 20/20\n",
            "30/30 [==============================] - 1s 42ms/step - loss: 0.0179 - accuracy: 0.9967 - val_loss: 0.5573 - val_accuracy: 0.8697\n"
          ]
        }
      ],
      "source": [
        "history = model.fit(partial_x_train,partial_y_train,epochs=20, batch_size=512,\n",
        "                    validation_data= (x_val,y_val))\n",
        "\n"
      ]
    },
    {
      "cell_type": "code",
      "execution_count": 11,
      "metadata": {
        "colab": {
          "base_uri": "https://localhost:8080/"
        },
        "id": "5ONjwTM-wOYQ",
        "outputId": "d90af7a7-1fb5-43a4-d0af-f65fcfd8b4a6"
      },
      "outputs": [
        {
          "output_type": "execute_result",
          "data": {
            "text/plain": [
              "dict_keys(['loss', 'accuracy', 'val_loss', 'val_accuracy'])"
            ]
          },
          "metadata": {},
          "execution_count": 11
        }
      ],
      "source": [
        "history_dict = history.history\n",
        "history_dict.keys()"
      ]
    },
    {
      "cell_type": "markdown",
      "source": [
        "4. Plotting training and validation metrics"
      ],
      "metadata": {
        "id": "JovwJwdhorrA"
      }
    },
    {
      "cell_type": "code",
      "execution_count": 12,
      "metadata": {
        "colab": {
          "base_uri": "https://localhost:8080/",
          "height": 472
        },
        "id": "q6RBr0qvnm9O",
        "outputId": "8e5f4adb-10be-42f6-e8ce-9f4ff3ce16b6"
      },
      "outputs": [
        {
          "output_type": "display_data",
          "data": {
            "text/plain": [
              "<Figure size 640x480 with 1 Axes>"
            ],
            "image/png": "[encoded data removed]"
          },
          "metadata": {}
        }
      ],
      "source": [
        "import matplotlib.pyplot as plt\n",
        "loss_val = history_dict['loss']\n",
        "val_loss_values = history_dict['val_loss']\n",
        "epochs = range(1, len(loss_val)+1)\n",
        "plt.plot(epochs, loss_val, 'bo', label = 'Training loss ')\n",
        "plt.plot(epochs, val_loss_values, 'b', label= 'Validation loss')\n",
        "plt.title('Training and validation loss')\n",
        "plt.xlabel('Epochs')\n",
        "plt.ylabel('loss')\n",
        "plt.legend()\n",
        "plt.show()\n"
      ]
    },
    {
      "cell_type": "code",
      "execution_count": 13,
      "metadata": {
        "colab": {
          "base_uri": "https://localhost:8080/",
          "height": 472
        },
        "id": "6Ritq7r0qDhk",
        "outputId": "da6b1d37-0bce-4c59-bfec-32f511599f7b"
      },
      "outputs": [
        {
          "output_type": "display_data",
          "data": {
            "text/plain": [
              "<Figure size 640x480 with 1 Axes>"
            ],
            "image/png": "[encoded data removed]"
          },
          "metadata": {}
        }
      ],
      "source": [
        "plt.clf()\n",
        "acc = history_dict['accuracy']\n",
        "val_acc = history_dict['val_accuracy']\n",
        "plt.plot(epochs, acc, 'bo', label='Training acc')\n",
        "plt.plot(epochs, val_acc, 'b', label = 'Validation acc')\n",
        "plt.title('Training and validation accuracy')\n",
        "plt.xlabel('Epochs')\n",
        "plt.ylabel('Accuracy')\n",
        "plt.legend()\n",
        "plt.show()"
      ]
    },
    {
      "cell_type": "markdown",
      "metadata": {
        "id": "Og83f0hSsRUw"
      },
      "source": [
        "In the above two graphs, we observe that the validation loss seems to increase at the 4th epoch . Similarly, the validation acccuracy seems to reach a minimum at the 4th epoch. After the 4th epoch, the model seems to overfit the training data. Thus, we will train our model using 4 epochs"
      ]
    },
    {
      "cell_type": "markdown",
      "source": [
        "5. Training optimal model given by 4 epochs"
      ],
      "metadata": {
        "id": "XSFgJxjLpNLv"
      }
    },
    {
      "cell_type": "code",
      "execution_count": 14,
      "metadata": {
        "colab": {
          "base_uri": "https://localhost:8080/"
        },
        "id": "GTMpyX78utKR",
        "outputId": "8e7a11ff-1e13-4dba-e56b-4b0774209fa6"
      },
      "outputs": [
        {
          "output_type": "stream",
          "name": "stdout",
          "text": [
            "Epoch 1/4\n",
            "31/31 [==============================] - 2s 48ms/step - loss: 0.5129 - accuracy: 0.7786\n",
            "Epoch 2/4\n",
            "31/31 [==============================] - 1s 46ms/step - loss: 0.3123 - accuracy: 0.8898\n",
            "Epoch 3/4\n",
            "31/31 [==============================] - 1s 45ms/step - loss: 0.2387 - accuracy: 0.9175\n",
            "Epoch 4/4\n",
            "31/31 [==============================] - 1s 43ms/step - loss: 0.2007 - accuracy: 0.9297\n",
            "782/782 [==============================] - 3s 4ms/step - loss: 0.3128 - accuracy: 0.8703\n"
          ]
        }
      ],
      "source": [
        "model_two = keras.Sequential([layers.Dense(16, activation='relu'), layers.Dense(16, activation = 'relu' ),\n",
        "                              layers.Dense(1, activation='sigmoid')])\n",
        "\n",
        "model_two.compile(optimizer= 'rmsprop', loss='binary_crossentropy', metrics=['accuracy'])\n",
        "model_two.fit(x_train,y_train, epochs=4, batch_size=812)\n",
        "results = model_two.evaluate(x_test,y_test)"
      ]
    },
    {
      "cell_type": "markdown",
      "source": [
        "# Generate predicitons on new data"
      ],
      "metadata": {
        "id": "gm5SlDMppxzO"
      }
    },
    {
      "cell_type": "code",
      "source": [
        "model_two.predict(x_test)[0][0]\n"
      ],
      "metadata": {
        "id": "_M-Z1M-RpxSc",
        "colab": {
          "base_uri": "https://localhost:8080/"
        },
        "outputId": "e677eb7c-c25d-42bc-be2b-b76004f8e032"
      },
      "execution_count": 15,
      "outputs": [
        {
          "output_type": "stream",
          "name": "stdout",
          "text": [
            "782/782 [==============================] - 2s 3ms/step\n"
          ]
        },
        {
          "output_type": "execute_result",
          "data": {
            "text/plain": [
              "0.19526182"
            ]
          },
          "metadata": {},
          "execution_count": 15
        }
      ]
    },
    {
      "cell_type": "markdown",
      "source": [
        "The first review has a likelihood of 19% of being positive"
      ],
      "metadata": {
        "id": "WxRbnephqGq3"
      }
    }
  ],
  "metadata": {
    "colab": {
      "provenance": [],
      "authorship_tag": "ABX9TyMese+ixzJemFuFu1rY8bOy"
    },
    "kernelspec": {
      "display_name": "Python 3",
      "name": "python3"
    },
    "language_info": {
      "name": "python"
    }
  },
  "nbformat": 4,
  "nbformat_minor": 0
}